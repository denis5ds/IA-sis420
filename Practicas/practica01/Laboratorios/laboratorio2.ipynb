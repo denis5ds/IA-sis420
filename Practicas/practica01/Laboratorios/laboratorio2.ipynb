{
  "cells": [
    {
      "cell_type": "markdown",
      "metadata": {
        "id": "tCybuPbF0UGA"
      },
      "source": [
        "REGRESION MULTIVARIABLE"
      ]
    },
    {
      "cell_type": "code",
      "execution_count": 335,
      "metadata": {
        "id": "9QpZbfrtgSjq",
        "colab": {
          "base_uri": "https://localhost:8080/"
        },
        "outputId": "c7252338-8071-4561-d7e6-d2eaf1f04d6a"
      },
      "outputs": [
        {
          "output_type": "stream",
          "name": "stdout",
          "text": [
            "Drive already mounted at /content/gdrive; to attempt to forcibly remount, call drive.mount(\"/content/gdrive\", force_remount=True).\n"
          ]
        }
      ],
      "source": [
        "from google.colab import drive\n",
        "drive.mount(\"/content/gdrive\")"
      ]
    },
    {
      "cell_type": "markdown",
      "metadata": {
        "id": "BC-V0nsVf6SS"
      },
      "source": [
        "# lab2\n",
        "https://www.kaggle.com/datasets/rashadrmammadov/football-teams-price-prediction\n",
        "\n",
        "\n"
      ]
    },
    {
      "cell_type": "code",
      "execution_count": 336,
      "metadata": {
        "id": "f0WGMMljlHQz"
      },
      "outputs": [],
      "source": [
        "# utilizado para manejos de directorios y rutas\n",
        "import os\n",
        "import csv\n",
        "# Computacion vectorial y cientifica para python\n",
        "import numpy as np\n",
        "import matplotlib.pyplot as plt\n",
        "from scipy import optimize\n",
        "# Librerias para graficación (trazado de gráficos)\n",
        "from matplotlib import pyplot\n",
        "from sklearn import preprocessing\n",
        "# llama a matplotlib a embeber graficas dentro de los cuadernillos\n",
        "%matplotlib inline\n",
        "\n",
        "# Biblioteca para la manipulación y el análisis de datos\n",
        "import pandas as pd"
      ]
    },
    {
      "cell_type": "code",
      "execution_count": 337,
      "metadata": {
        "id": "6BP5grkxlHQ0"
      },
      "outputs": [],
      "source": [
        "# Cargamos el dataset\n",
        "data = pd.read_csv('/content/gdrive/MyDrive/IA/datasets/Football_teams_price_data.csv', delimiter=',')\n",
        "\n",
        "\n",
        "# Eliminar la primera columna\n",
        "data = data.iloc[:, 1:]\n",
        "# Identificar todas las columnas de tipo 'object' excepto la última columna\n",
        "object_columns = data.iloc[:, :].select_dtypes(include=['object']).columns\n",
        "# Eliminar las columnas de tipo 'object'\n",
        "data = data.drop(columns=object_columns)\n",
        "\n",
        "\n"
      ]
    },
    {
      "cell_type": "code",
      "execution_count": 338,
      "metadata": {
        "colab": {
          "base_uri": "https://localhost:8080/"
        },
        "id": "tDeZN2XdELF_",
        "outputId": "2f7fc6fa-bd73-4cbd-f863-85bd4cb68769"
      },
      "outputs": [
        {
          "output_type": "stream",
          "name": "stdout",
          "text": [
            "<class 'pandas.core.frame.DataFrame'>\n",
            "RangeIndex: 50000 entries, 0 to 49999\n",
            "Data columns (total 14 columns):\n",
            " #   Column                        Non-Null Count  Dtype  \n",
            "---  ------                        --------------  -----  \n",
            " 0   TotalGoalsLastSeason          50000 non-null  int64  \n",
            " 1   MatchesWonLastSeason          50000 non-null  int64  \n",
            " 2   MatchesDrawnLastSeason        50000 non-null  int64  \n",
            " 3   MatchesLostLastSeason         50000 non-null  int64  \n",
            " 4   TotalGoalsConcededLastSeason  50000 non-null  int64  \n",
            " 5   TotalRevenueLastSeason        50000 non-null  float64\n",
            " 6   StadiumCapacity               50000 non-null  int64  \n",
            " 7   AverageAttendance             50000 non-null  float64\n",
            " 8   TransferSpendingLastSeason    50000 non-null  float64\n",
            " 9   TransferIncomeLastSeason      50000 non-null  float64\n",
            " 10  NumberOfTrophies              50000 non-null  int64  \n",
            " 11  MarketValueOfSquad            50000 non-null  float64\n",
            " 12  AveragePlayerMarketValue      50000 non-null  float64\n",
            " 13  YouthAcademyRating            50000 non-null  float64\n",
            "dtypes: float64(7), int64(7)\n",
            "memory usage: 5.3 MB\n"
          ]
        }
      ],
      "source": [
        "data.info()"
      ]
    },
    {
      "cell_type": "code",
      "execution_count": 339,
      "metadata": {
        "id": "aFkuV7XPCPgG"
      },
      "outputs": [],
      "source": [
        "cols = list(data.columns)\n",
        "\n",
        "# Verificar si la longitud de la lista es suficiente para el intercambio\n",
        "if len(cols) >= 6:\n",
        "    # Intercambiar las posiciones de las columnas 2 y 6 (índices 1 y 5)\n",
        "    cols[12], cols[13] = cols[13], cols[12]\n",
        "\n",
        "    # Reordenar el DataFrame\n",
        "    data = data[cols]\n",
        "else:\n",
        "    print(\"No hay suficientes columnas para intercambiar.\")"
      ]
    },
    {
      "cell_type": "code",
      "execution_count": 340,
      "metadata": {
        "id": "7sBOeFpk0UGH"
      },
      "outputs": [],
      "source": [
        "# Seleccionamos las columnas independientes (X) y dependiente(y)\n",
        "X = data.iloc[:, 0:13]\n",
        "y = data.iloc[:, -1]\n",
        "m = y.size"
      ]
    },
    {
      "cell_type": "code",
      "execution_count": 341,
      "metadata": {
        "colab": {
          "base_uri": "https://localhost:8080/"
        },
        "id": "gAJOOerMwvIM",
        "outputId": "89ae4687-0b60-45dd-9fc0-03bd12057330"
      },
      "outputs": [
        {
          "output_type": "stream",
          "name": "stdout",
          "text": [
            "0        15.847841\n",
            "1        26.731697\n",
            "2        21.365171\n",
            "3        21.483504\n",
            "4        26.938414\n",
            "           ...    \n",
            "49995    45.316735\n",
            "49996    18.867344\n",
            "49997    44.213728\n",
            "49998    33.942946\n",
            "49999    15.094618\n",
            "Name: AveragePlayerMarketValue, Length: 50000, dtype: float64\n"
          ]
        }
      ],
      "source": [
        "\n",
        "print(y)\n"
      ]
    },
    {
      "cell_type": "code",
      "execution_count": 342,
      "metadata": {
        "colab": {
          "base_uri": "https://localhost:8080/",
          "height": 826
        },
        "id": "EXG7dFRD0UGI",
        "outputId": "fb2b5587-ce3f-4d7c-de1a-f1aea171de6a"
      },
      "outputs": [
        {
          "output_type": "display_data",
          "data": {
            "text/plain": [
              "       TotalGoalsLastSeason  MatchesWonLastSeason  MatchesDrawnLastSeason  \\\n",
              "0                        28                    16                      36   \n",
              "1                        89                    12                      35   \n",
              "2                        43                     3                       9   \n",
              "3                        84                    19                      19   \n",
              "4                        36                    36                      10   \n",
              "...                     ...                   ...                     ...   \n",
              "49995                    93                    27                       2   \n",
              "49996                    93                    20                      36   \n",
              "49997                    88                    34                      10   \n",
              "49998                    78                    22                      15   \n",
              "49999                    61                    28                      17   \n",
              "\n",
              "       MatchesLostLastSeason  TotalGoalsConcededLastSeason  \\\n",
              "0                         20                            51   \n",
              "1                         31                            84   \n",
              "2                         28                            72   \n",
              "3                         34                            22   \n",
              "4                          9                            80   \n",
              "...                      ...                           ...   \n",
              "49995                     33                            44   \n",
              "49996                     22                            70   \n",
              "49997                      4                            57   \n",
              "49998                      3                            70   \n",
              "49999                      0                            59   \n",
              "\n",
              "       TotalRevenueLastSeason  StadiumCapacity  AverageAttendance  \\\n",
              "0                  337.552001            55766        5229.742720   \n",
              "1                  264.850402            15307       46172.738882   \n",
              "2                  363.423205            77050       78334.254989   \n",
              "3                  296.719959            61440       60080.423819   \n",
              "4                  480.928532            78563       10940.950513   \n",
              "...                       ...              ...                ...   \n",
              "49995              311.988876            69112       41021.316020   \n",
              "49996              360.856254            56046       42936.194438   \n",
              "49997               63.894436            42195       32554.899828   \n",
              "49998               92.374679            63261       89923.247455   \n",
              "49999              317.799796            55798       64012.493588   \n",
              "\n",
              "       TransferSpendingLastSeason  TransferIncomeLastSeason  NumberOfTrophies  \\\n",
              "0                      177.592126                 79.972750                49   \n",
              "1                      125.441952                  7.679349                38   \n",
              "2                       43.776137                136.648762                38   \n",
              "3                      183.936395                168.683160                 6   \n",
              "4                       14.881518                188.768072                11   \n",
              "...                           ...                       ...               ...   \n",
              "49995                   50.294379                131.102374                39   \n",
              "49996                   40.913480                 69.679081                47   \n",
              "49997                   32.229077                 53.146753                46   \n",
              "49998                   69.108758                 64.736750                12   \n",
              "49999                  172.322590                188.490206                42   \n",
              "\n",
              "       MarketValueOfSquad  YouthAcademyRating  AveragePlayerMarketValue  \n",
              "0              713.968872           14.361253                 15.847841  \n",
              "1              236.644694           23.967076                 26.731697  \n",
              "2              410.502058           64.309831                 21.365171  \n",
              "3              177.561791           82.352127                 21.483504  \n",
              "4              562.114099           90.614463                 26.938414  \n",
              "...                   ...                 ...                       ...  \n",
              "49995          302.667018           26.776585                 45.316735  \n",
              "49996          858.797181           73.354701                 18.867344  \n",
              "49997          565.281592           36.764740                 44.213728  \n",
              "49998          434.747915           61.849402                 33.942946  \n",
              "49999           11.969673           29.949944                 15.094618  \n",
              "\n",
              "[50000 rows x 14 columns]"
            ],
            "text/html": [
              "\n",
              "  <div id=\"df-711f7bab-920c-4156-a364-5dac6f67aca2\" class=\"colab-df-container\">\n",
              "    <div>\n",
              "<style scoped>\n",
              "    .dataframe tbody tr th:only-of-type {\n",
              "        vertical-align: middle;\n",
              "    }\n",
              "\n",
              "    .dataframe tbody tr th {\n",
              "        vertical-align: top;\n",
              "    }\n",
              "\n",
              "    .dataframe thead th {\n",
              "        text-align: right;\n",
              "    }\n",
              "</style>\n",
              "<table border=\"1\" class=\"dataframe\">\n",
              "  <thead>\n",
              "    <tr style=\"text-align: right;\">\n",
              "      <th></th>\n",
              "      <th>TotalGoalsLastSeason</th>\n",
              "      <th>MatchesWonLastSeason</th>\n",
              "      <th>MatchesDrawnLastSeason</th>\n",
              "      <th>MatchesLostLastSeason</th>\n",
              "      <th>TotalGoalsConcededLastSeason</th>\n",
              "      <th>TotalRevenueLastSeason</th>\n",
              "      <th>StadiumCapacity</th>\n",
              "      <th>AverageAttendance</th>\n",
              "      <th>TransferSpendingLastSeason</th>\n",
              "      <th>TransferIncomeLastSeason</th>\n",
              "      <th>NumberOfTrophies</th>\n",
              "      <th>MarketValueOfSquad</th>\n",
              "      <th>YouthAcademyRating</th>\n",
              "      <th>AveragePlayerMarketValue</th>\n",
              "    </tr>\n",
              "  </thead>\n",
              "  <tbody>\n",
              "    <tr>\n",
              "      <th>0</th>\n",
              "      <td>28</td>\n",
              "      <td>16</td>\n",
              "      <td>36</td>\n",
              "      <td>20</td>\n",
              "      <td>51</td>\n",
              "      <td>337.552001</td>\n",
              "      <td>55766</td>\n",
              "      <td>5229.742720</td>\n",
              "      <td>177.592126</td>\n",
              "      <td>79.972750</td>\n",
              "      <td>49</td>\n",
              "      <td>713.968872</td>\n",
              "      <td>14.361253</td>\n",
              "      <td>15.847841</td>\n",
              "    </tr>\n",
              "    <tr>\n",
              "      <th>1</th>\n",
              "      <td>89</td>\n",
              "      <td>12</td>\n",
              "      <td>35</td>\n",
              "      <td>31</td>\n",
              "      <td>84</td>\n",
              "      <td>264.850402</td>\n",
              "      <td>15307</td>\n",
              "      <td>46172.738882</td>\n",
              "      <td>125.441952</td>\n",
              "      <td>7.679349</td>\n",
              "      <td>38</td>\n",
              "      <td>236.644694</td>\n",
              "      <td>23.967076</td>\n",
              "      <td>26.731697</td>\n",
              "    </tr>\n",
              "    <tr>\n",
              "      <th>2</th>\n",
              "      <td>43</td>\n",
              "      <td>3</td>\n",
              "      <td>9</td>\n",
              "      <td>28</td>\n",
              "      <td>72</td>\n",
              "      <td>363.423205</td>\n",
              "      <td>77050</td>\n",
              "      <td>78334.254989</td>\n",
              "      <td>43.776137</td>\n",
              "      <td>136.648762</td>\n",
              "      <td>38</td>\n",
              "      <td>410.502058</td>\n",
              "      <td>64.309831</td>\n",
              "      <td>21.365171</td>\n",
              "    </tr>\n",
              "    <tr>\n",
              "      <th>3</th>\n",
              "      <td>84</td>\n",
              "      <td>19</td>\n",
              "      <td>19</td>\n",
              "      <td>34</td>\n",
              "      <td>22</td>\n",
              "      <td>296.719959</td>\n",
              "      <td>61440</td>\n",
              "      <td>60080.423819</td>\n",
              "      <td>183.936395</td>\n",
              "      <td>168.683160</td>\n",
              "      <td>6</td>\n",
              "      <td>177.561791</td>\n",
              "      <td>82.352127</td>\n",
              "      <td>21.483504</td>\n",
              "    </tr>\n",
              "    <tr>\n",
              "      <th>4</th>\n",
              "      <td>36</td>\n",
              "      <td>36</td>\n",
              "      <td>10</td>\n",
              "      <td>9</td>\n",
              "      <td>80</td>\n",
              "      <td>480.928532</td>\n",
              "      <td>78563</td>\n",
              "      <td>10940.950513</td>\n",
              "      <td>14.881518</td>\n",
              "      <td>188.768072</td>\n",
              "      <td>11</td>\n",
              "      <td>562.114099</td>\n",
              "      <td>90.614463</td>\n",
              "      <td>26.938414</td>\n",
              "    </tr>\n",
              "    <tr>\n",
              "      <th>...</th>\n",
              "      <td>...</td>\n",
              "      <td>...</td>\n",
              "      <td>...</td>\n",
              "      <td>...</td>\n",
              "      <td>...</td>\n",
              "      <td>...</td>\n",
              "      <td>...</td>\n",
              "      <td>...</td>\n",
              "      <td>...</td>\n",
              "      <td>...</td>\n",
              "      <td>...</td>\n",
              "      <td>...</td>\n",
              "      <td>...</td>\n",
              "      <td>...</td>\n",
              "    </tr>\n",
              "    <tr>\n",
              "      <th>49995</th>\n",
              "      <td>93</td>\n",
              "      <td>27</td>\n",
              "      <td>2</td>\n",
              "      <td>33</td>\n",
              "      <td>44</td>\n",
              "      <td>311.988876</td>\n",
              "      <td>69112</td>\n",
              "      <td>41021.316020</td>\n",
              "      <td>50.294379</td>\n",
              "      <td>131.102374</td>\n",
              "      <td>39</td>\n",
              "      <td>302.667018</td>\n",
              "      <td>26.776585</td>\n",
              "      <td>45.316735</td>\n",
              "    </tr>\n",
              "    <tr>\n",
              "      <th>49996</th>\n",
              "      <td>93</td>\n",
              "      <td>20</td>\n",
              "      <td>36</td>\n",
              "      <td>22</td>\n",
              "      <td>70</td>\n",
              "      <td>360.856254</td>\n",
              "      <td>56046</td>\n",
              "      <td>42936.194438</td>\n",
              "      <td>40.913480</td>\n",
              "      <td>69.679081</td>\n",
              "      <td>47</td>\n",
              "      <td>858.797181</td>\n",
              "      <td>73.354701</td>\n",
              "      <td>18.867344</td>\n",
              "    </tr>\n",
              "    <tr>\n",
              "      <th>49997</th>\n",
              "      <td>88</td>\n",
              "      <td>34</td>\n",
              "      <td>10</td>\n",
              "      <td>4</td>\n",
              "      <td>57</td>\n",
              "      <td>63.894436</td>\n",
              "      <td>42195</td>\n",
              "      <td>32554.899828</td>\n",
              "      <td>32.229077</td>\n",
              "      <td>53.146753</td>\n",
              "      <td>46</td>\n",
              "      <td>565.281592</td>\n",
              "      <td>36.764740</td>\n",
              "      <td>44.213728</td>\n",
              "    </tr>\n",
              "    <tr>\n",
              "      <th>49998</th>\n",
              "      <td>78</td>\n",
              "      <td>22</td>\n",
              "      <td>15</td>\n",
              "      <td>3</td>\n",
              "      <td>70</td>\n",
              "      <td>92.374679</td>\n",
              "      <td>63261</td>\n",
              "      <td>89923.247455</td>\n",
              "      <td>69.108758</td>\n",
              "      <td>64.736750</td>\n",
              "      <td>12</td>\n",
              "      <td>434.747915</td>\n",
              "      <td>61.849402</td>\n",
              "      <td>33.942946</td>\n",
              "    </tr>\n",
              "    <tr>\n",
              "      <th>49999</th>\n",
              "      <td>61</td>\n",
              "      <td>28</td>\n",
              "      <td>17</td>\n",
              "      <td>0</td>\n",
              "      <td>59</td>\n",
              "      <td>317.799796</td>\n",
              "      <td>55798</td>\n",
              "      <td>64012.493588</td>\n",
              "      <td>172.322590</td>\n",
              "      <td>188.490206</td>\n",
              "      <td>42</td>\n",
              "      <td>11.969673</td>\n",
              "      <td>29.949944</td>\n",
              "      <td>15.094618</td>\n",
              "    </tr>\n",
              "  </tbody>\n",
              "</table>\n",
              "<p>50000 rows × 14 columns</p>\n",
              "</div>\n",
              "    <div class=\"colab-df-buttons\">\n",
              "\n",
              "  <div class=\"colab-df-container\">\n",
              "    <button class=\"colab-df-convert\" onclick=\"convertToInteractive('df-711f7bab-920c-4156-a364-5dac6f67aca2')\"\n",
              "            title=\"Convert this dataframe to an interactive table.\"\n",
              "            style=\"display:none;\">\n",
              "\n",
              "  <svg xmlns=\"http://www.w3.org/2000/svg\" height=\"24px\" viewBox=\"0 -960 960 960\">\n",
              "    <path d=\"M120-120v-720h720v720H120Zm60-500h600v-160H180v160Zm220 220h160v-160H400v160Zm0 220h160v-160H400v160ZM180-400h160v-160H180v160Zm440 0h160v-160H620v160ZM180-180h160v-160H180v160Zm440 0h160v-160H620v160Z\"/>\n",
              "  </svg>\n",
              "    </button>\n",
              "\n",
              "  <style>\n",
              "    .colab-df-container {\n",
              "      display:flex;\n",
              "      gap: 12px;\n",
              "    }\n",
              "\n",
              "    .colab-df-convert {\n",
              "      background-color: #E8F0FE;\n",
              "      border: none;\n",
              "      border-radius: 50%;\n",
              "      cursor: pointer;\n",
              "      display: none;\n",
              "      fill: #1967D2;\n",
              "      height: 32px;\n",
              "      padding: 0 0 0 0;\n",
              "      width: 32px;\n",
              "    }\n",
              "\n",
              "    .colab-df-convert:hover {\n",
              "      background-color: #E2EBFA;\n",
              "      box-shadow: 0px 1px 2px rgba(60, 64, 67, 0.3), 0px 1px 3px 1px rgba(60, 64, 67, 0.15);\n",
              "      fill: #174EA6;\n",
              "    }\n",
              "\n",
              "    .colab-df-buttons div {\n",
              "      margin-bottom: 4px;\n",
              "    }\n",
              "\n",
              "    [theme=dark] .colab-df-convert {\n",
              "      background-color: #3B4455;\n",
              "      fill: #D2E3FC;\n",
              "    }\n",
              "\n",
              "    [theme=dark] .colab-df-convert:hover {\n",
              "      background-color: #434B5C;\n",
              "      box-shadow: 0px 1px 3px 1px rgba(0, 0, 0, 0.15);\n",
              "      filter: drop-shadow(0px 1px 2px rgba(0, 0, 0, 0.3));\n",
              "      fill: #FFFFFF;\n",
              "    }\n",
              "  </style>\n",
              "\n",
              "    <script>\n",
              "      const buttonEl =\n",
              "        document.querySelector('#df-711f7bab-920c-4156-a364-5dac6f67aca2 button.colab-df-convert');\n",
              "      buttonEl.style.display =\n",
              "        google.colab.kernel.accessAllowed ? 'block' : 'none';\n",
              "\n",
              "      async function convertToInteractive(key) {\n",
              "        const element = document.querySelector('#df-711f7bab-920c-4156-a364-5dac6f67aca2');\n",
              "        const dataTable =\n",
              "          await google.colab.kernel.invokeFunction('convertToInteractive',\n",
              "                                                    [key], {});\n",
              "        if (!dataTable) return;\n",
              "\n",
              "        const docLinkHtml = 'Like what you see? Visit the ' +\n",
              "          '<a target=\"_blank\" href=https://colab.research.google.com/notebooks/data_table.ipynb>data table notebook</a>'\n",
              "          + ' to learn more about interactive tables.';\n",
              "        element.innerHTML = '';\n",
              "        dataTable['output_type'] = 'display_data';\n",
              "        await google.colab.output.renderOutput(dataTable, element);\n",
              "        const docLink = document.createElement('div');\n",
              "        docLink.innerHTML = docLinkHtml;\n",
              "        element.appendChild(docLink);\n",
              "      }\n",
              "    </script>\n",
              "  </div>\n",
              "\n",
              "\n",
              "<div id=\"df-02926bc3-0caa-4383-aec0-efd0f6038b60\">\n",
              "  <button class=\"colab-df-quickchart\" onclick=\"quickchart('df-02926bc3-0caa-4383-aec0-efd0f6038b60')\"\n",
              "            title=\"Suggest charts\"\n",
              "            style=\"display:none;\">\n",
              "\n",
              "<svg xmlns=\"http://www.w3.org/2000/svg\" height=\"24px\"viewBox=\"0 0 24 24\"\n",
              "     width=\"24px\">\n",
              "    <g>\n",
              "        <path d=\"M19 3H5c-1.1 0-2 .9-2 2v14c0 1.1.9 2 2 2h14c1.1 0 2-.9 2-2V5c0-1.1-.9-2-2-2zM9 17H7v-7h2v7zm4 0h-2V7h2v10zm4 0h-2v-4h2v4z\"/>\n",
              "    </g>\n",
              "</svg>\n",
              "  </button>\n",
              "\n",
              "<style>\n",
              "  .colab-df-quickchart {\n",
              "      --bg-color: #E8F0FE;\n",
              "      --fill-color: #1967D2;\n",
              "      --hover-bg-color: #E2EBFA;\n",
              "      --hover-fill-color: #174EA6;\n",
              "      --disabled-fill-color: #AAA;\n",
              "      --disabled-bg-color: #DDD;\n",
              "  }\n",
              "\n",
              "  [theme=dark] .colab-df-quickchart {\n",
              "      --bg-color: #3B4455;\n",
              "      --fill-color: #D2E3FC;\n",
              "      --hover-bg-color: #434B5C;\n",
              "      --hover-fill-color: #FFFFFF;\n",
              "      --disabled-bg-color: #3B4455;\n",
              "      --disabled-fill-color: #666;\n",
              "  }\n",
              "\n",
              "  .colab-df-quickchart {\n",
              "    background-color: var(--bg-color);\n",
              "    border: none;\n",
              "    border-radius: 50%;\n",
              "    cursor: pointer;\n",
              "    display: none;\n",
              "    fill: var(--fill-color);\n",
              "    height: 32px;\n",
              "    padding: 0;\n",
              "    width: 32px;\n",
              "  }\n",
              "\n",
              "  .colab-df-quickchart:hover {\n",
              "    background-color: var(--hover-bg-color);\n",
              "    box-shadow: 0 1px 2px rgba(60, 64, 67, 0.3), 0 1px 3px 1px rgba(60, 64, 67, 0.15);\n",
              "    fill: var(--button-hover-fill-color);\n",
              "  }\n",
              "\n",
              "  .colab-df-quickchart-complete:disabled,\n",
              "  .colab-df-quickchart-complete:disabled:hover {\n",
              "    background-color: var(--disabled-bg-color);\n",
              "    fill: var(--disabled-fill-color);\n",
              "    box-shadow: none;\n",
              "  }\n",
              "\n",
              "  .colab-df-spinner {\n",
              "    border: 2px solid var(--fill-color);\n",
              "    border-color: transparent;\n",
              "    border-bottom-color: var(--fill-color);\n",
              "    animation:\n",
              "      spin 1s steps(1) infinite;\n",
              "  }\n",
              "\n",
              "  @keyframes spin {\n",
              "    0% {\n",
              "      border-color: transparent;\n",
              "      border-bottom-color: var(--fill-color);\n",
              "      border-left-color: var(--fill-color);\n",
              "    }\n",
              "    20% {\n",
              "      border-color: transparent;\n",
              "      border-left-color: var(--fill-color);\n",
              "      border-top-color: var(--fill-color);\n",
              "    }\n",
              "    30% {\n",
              "      border-color: transparent;\n",
              "      border-left-color: var(--fill-color);\n",
              "      border-top-color: var(--fill-color);\n",
              "      border-right-color: var(--fill-color);\n",
              "    }\n",
              "    40% {\n",
              "      border-color: transparent;\n",
              "      border-right-color: var(--fill-color);\n",
              "      border-top-color: var(--fill-color);\n",
              "    }\n",
              "    60% {\n",
              "      border-color: transparent;\n",
              "      border-right-color: var(--fill-color);\n",
              "    }\n",
              "    80% {\n",
              "      border-color: transparent;\n",
              "      border-right-color: var(--fill-color);\n",
              "      border-bottom-color: var(--fill-color);\n",
              "    }\n",
              "    90% {\n",
              "      border-color: transparent;\n",
              "      border-bottom-color: var(--fill-color);\n",
              "    }\n",
              "  }\n",
              "</style>\n",
              "\n",
              "  <script>\n",
              "    async function quickchart(key) {\n",
              "      const quickchartButtonEl =\n",
              "        document.querySelector('#' + key + ' button');\n",
              "      quickchartButtonEl.disabled = true;  // To prevent multiple clicks.\n",
              "      quickchartButtonEl.classList.add('colab-df-spinner');\n",
              "      try {\n",
              "        const charts = await google.colab.kernel.invokeFunction(\n",
              "            'suggestCharts', [key], {});\n",
              "      } catch (error) {\n",
              "        console.error('Error during call to suggestCharts:', error);\n",
              "      }\n",
              "      quickchartButtonEl.classList.remove('colab-df-spinner');\n",
              "      quickchartButtonEl.classList.add('colab-df-quickchart-complete');\n",
              "    }\n",
              "    (() => {\n",
              "      let quickchartButtonEl =\n",
              "        document.querySelector('#df-02926bc3-0caa-4383-aec0-efd0f6038b60 button');\n",
              "      quickchartButtonEl.style.display =\n",
              "        google.colab.kernel.accessAllowed ? 'block' : 'none';\n",
              "    })();\n",
              "  </script>\n",
              "</div>\n",
              "\n",
              "  <div id=\"id_1da1fe28-6ecf-4798-bbc1-5b3fc908b412\">\n",
              "    <style>\n",
              "      .colab-df-generate {\n",
              "        background-color: #E8F0FE;\n",
              "        border: none;\n",
              "        border-radius: 50%;\n",
              "        cursor: pointer;\n",
              "        display: none;\n",
              "        fill: #1967D2;\n",
              "        height: 32px;\n",
              "        padding: 0 0 0 0;\n",
              "        width: 32px;\n",
              "      }\n",
              "\n",
              "      .colab-df-generate:hover {\n",
              "        background-color: #E2EBFA;\n",
              "        box-shadow: 0px 1px 2px rgba(60, 64, 67, 0.3), 0px 1px 3px 1px rgba(60, 64, 67, 0.15);\n",
              "        fill: #174EA6;\n",
              "      }\n",
              "\n",
              "      [theme=dark] .colab-df-generate {\n",
              "        background-color: #3B4455;\n",
              "        fill: #D2E3FC;\n",
              "      }\n",
              "\n",
              "      [theme=dark] .colab-df-generate:hover {\n",
              "        background-color: #434B5C;\n",
              "        box-shadow: 0px 1px 3px 1px rgba(0, 0, 0, 0.15);\n",
              "        filter: drop-shadow(0px 1px 2px rgba(0, 0, 0, 0.3));\n",
              "        fill: #FFFFFF;\n",
              "      }\n",
              "    </style>\n",
              "    <button class=\"colab-df-generate\" onclick=\"generateWithVariable('data')\"\n",
              "            title=\"Generate code using this dataframe.\"\n",
              "            style=\"display:none;\">\n",
              "\n",
              "  <svg xmlns=\"http://www.w3.org/2000/svg\" height=\"24px\"viewBox=\"0 0 24 24\"\n",
              "       width=\"24px\">\n",
              "    <path d=\"M7,19H8.4L18.45,9,17,7.55,7,17.6ZM5,21V16.75L18.45,3.32a2,2,0,0,1,2.83,0l1.4,1.43a1.91,1.91,0,0,1,.58,1.4,1.91,1.91,0,0,1-.58,1.4L9.25,21ZM18.45,9,17,7.55Zm-12,3A5.31,5.31,0,0,0,4.9,8.1,5.31,5.31,0,0,0,1,6.5,5.31,5.31,0,0,0,4.9,4.9,5.31,5.31,0,0,0,6.5,1,5.31,5.31,0,0,0,8.1,4.9,5.31,5.31,0,0,0,12,6.5,5.46,5.46,0,0,0,6.5,12Z\"/>\n",
              "  </svg>\n",
              "    </button>\n",
              "    <script>\n",
              "      (() => {\n",
              "      const buttonEl =\n",
              "        document.querySelector('#id_1da1fe28-6ecf-4798-bbc1-5b3fc908b412 button.colab-df-generate');\n",
              "      buttonEl.style.display =\n",
              "        google.colab.kernel.accessAllowed ? 'block' : 'none';\n",
              "\n",
              "      buttonEl.onclick = () => {\n",
              "        google.colab.notebook.generateWithVariable('data');\n",
              "      }\n",
              "      })();\n",
              "    </script>\n",
              "  </div>\n",
              "\n",
              "    </div>\n",
              "  </div>\n"
            ],
            "application/vnd.google.colaboratory.intrinsic+json": {
              "type": "dataframe",
              "variable_name": "data",
              "summary": "{\n  \"name\": \"data\",\n  \"rows\": 50000,\n  \"fields\": [\n    {\n      \"column\": \"TotalGoalsLastSeason\",\n      \"properties\": {\n        \"dtype\": \"number\",\n        \"std\": 23,\n        \"min\": 20,\n        \"max\": 99,\n        \"num_unique_values\": 80,\n        \"samples\": [\n          97,\n          28,\n          57\n        ],\n        \"semantic_type\": \"\",\n        \"description\": \"\"\n      }\n    },\n    {\n      \"column\": \"MatchesWonLastSeason\",\n      \"properties\": {\n        \"dtype\": \"number\",\n        \"std\": 10,\n        \"min\": 0,\n        \"max\": 37,\n        \"num_unique_values\": 38,\n        \"samples\": [\n          33,\n          25,\n          36\n        ],\n        \"semantic_type\": \"\",\n        \"description\": \"\"\n      }\n    },\n    {\n      \"column\": \"MatchesDrawnLastSeason\",\n      \"properties\": {\n        \"dtype\": \"number\",\n        \"std\": 10,\n        \"min\": 0,\n        \"max\": 37,\n        \"num_unique_values\": 38,\n        \"samples\": [\n          15,\n          34,\n          10\n        ],\n        \"semantic_type\": \"\",\n        \"description\": \"\"\n      }\n    },\n    {\n      \"column\": \"MatchesLostLastSeason\",\n      \"properties\": {\n        \"dtype\": \"number\",\n        \"std\": 10,\n        \"min\": 0,\n        \"max\": 37,\n        \"num_unique_values\": 38,\n        \"samples\": [\n          3,\n          29,\n          9\n        ],\n        \"semantic_type\": \"\",\n        \"description\": \"\"\n      }\n    },\n    {\n      \"column\": \"TotalGoalsConcededLastSeason\",\n      \"properties\": {\n        \"dtype\": \"number\",\n        \"std\": 23,\n        \"min\": 20,\n        \"max\": 99,\n        \"num_unique_values\": 80,\n        \"samples\": [\n          39,\n          51,\n          62\n        ],\n        \"semantic_type\": \"\",\n        \"description\": \"\"\n      }\n    },\n    {\n      \"column\": \"TotalRevenueLastSeason\",\n      \"properties\": {\n        \"dtype\": \"number\",\n        \"std\": 130.15049458586682,\n        \"min\": 50.004034510263175,\n        \"max\": 499.9996913296617,\n        \"num_unique_values\": 50000,\n        \"samples\": [\n          82.80772883739218,\n          357.137929853634,\n          292.3996318419703\n        ],\n        \"semantic_type\": \"\",\n        \"description\": \"\"\n      }\n    },\n    {\n      \"column\": \"StadiumCapacity\",\n      \"properties\": {\n        \"dtype\": \"number\",\n        \"std\": 25986,\n        \"min\": 10013,\n        \"max\": 99997,\n        \"num_unique_values\": 38268,\n        \"samples\": [\n          50811,\n          25833,\n          12005\n        ],\n        \"semantic_type\": \"\",\n        \"description\": \"\"\n      }\n    },\n    {\n      \"column\": \"AverageAttendance\",\n      \"properties\": {\n        \"dtype\": \"number\",\n        \"std\": 24578.631962103576,\n        \"min\": 5003.395786126495,\n        \"max\": 89998.49371332412,\n        \"num_unique_values\": 50000,\n        \"samples\": [\n          80612.4442765208,\n          12770.973418898848,\n          79138.89051298157\n        ],\n        \"semantic_type\": \"\",\n        \"description\": \"\"\n      }\n    },\n    {\n      \"column\": \"TransferSpendingLastSeason\",\n      \"properties\": {\n        \"dtype\": \"number\",\n        \"std\": 57.66679772139544,\n        \"min\": 0.0062294060464873,\n        \"max\": 199.99738791616775,\n        \"num_unique_values\": 50000,\n        \"samples\": [\n          92.88037662405438,\n          64.26014747908351,\n          39.54359019119564\n        ],\n        \"semantic_type\": \"\",\n        \"description\": \"\"\n      }\n    },\n    {\n      \"column\": \"TransferIncomeLastSeason\",\n      \"properties\": {\n        \"dtype\": \"number\",\n        \"std\": 57.60985195682819,\n        \"min\": 0.004302052430205,\n        \"max\": 199.9996629721909,\n        \"num_unique_values\": 50000,\n        \"samples\": [\n          38.60136011336061,\n          89.734473923081,\n          112.9653025844934\n        ],\n        \"semantic_type\": \"\",\n        \"description\": \"\"\n      }\n    },\n    {\n      \"column\": \"NumberOfTrophies\",\n      \"properties\": {\n        \"dtype\": \"number\",\n        \"std\": 14,\n        \"min\": 0,\n        \"max\": 49,\n        \"num_unique_values\": 50,\n        \"samples\": [\n          5,\n          16,\n          8\n        ],\n        \"semantic_type\": \"\",\n        \"description\": \"\"\n      }\n    },\n    {\n      \"column\": \"MarketValueOfSquad\",\n      \"properties\": {\n        \"dtype\": \"number\",\n        \"std\": 286.4754002974209,\n        \"min\": 10.005993029421935,\n        \"max\": 999.9680385377028,\n        \"num_unique_values\": 50000,\n        \"samples\": [\n          311.01070104948855,\n          759.3603277637606,\n          420.46080962524655\n        ],\n        \"semantic_type\": \"\",\n        \"description\": \"\"\n      }\n    },\n    {\n      \"column\": \"YouthAcademyRating\",\n      \"properties\": {\n        \"dtype\": \"number\",\n        \"std\": 28.82768775380375,\n        \"min\": 0.0003181530277895,\n        \"max\": 99.99714592281973,\n        \"num_unique_values\": 50000,\n        \"samples\": [\n          81.97779934175531,\n          93.24063118324612,\n          98.56419734260628\n        ],\n        \"semantic_type\": \"\",\n        \"description\": \"\"\n      }\n    },\n    {\n      \"column\": \"AveragePlayerMarketValue\",\n      \"properties\": {\n        \"dtype\": \"number\",\n        \"std\": 14.298219838437781,\n        \"min\": 0.5003433729173881,\n        \"max\": 49.99969014648376,\n        \"num_unique_values\": 50000,\n        \"samples\": [\n          21.83661713660065,\n          3.4809752330657413,\n          16.72625575108649\n        ],\n        \"semantic_type\": \"\",\n        \"description\": \"\"\n      }\n    }\n  ]\n}"
            }
          },
          "metadata": {}
        },
        {
          "output_type": "stream",
          "name": "stdout",
          "text": [
            "<class 'pandas.core.frame.DataFrame'>\n",
            "RangeIndex: 50000 entries, 0 to 49999\n",
            "Data columns (total 14 columns):\n",
            " #   Column                        Non-Null Count  Dtype  \n",
            "---  ------                        --------------  -----  \n",
            " 0   TotalGoalsLastSeason          50000 non-null  int64  \n",
            " 1   MatchesWonLastSeason          50000 non-null  int64  \n",
            " 2   MatchesDrawnLastSeason        50000 non-null  int64  \n",
            " 3   MatchesLostLastSeason         50000 non-null  int64  \n",
            " 4   TotalGoalsConcededLastSeason  50000 non-null  int64  \n",
            " 5   TotalRevenueLastSeason        50000 non-null  float64\n",
            " 6   StadiumCapacity               50000 non-null  int64  \n",
            " 7   AverageAttendance             50000 non-null  float64\n",
            " 8   TransferSpendingLastSeason    50000 non-null  float64\n",
            " 9   TransferIncomeLastSeason      50000 non-null  float64\n",
            " 10  NumberOfTrophies              50000 non-null  int64  \n",
            " 11  MarketValueOfSquad            50000 non-null  float64\n",
            " 12  YouthAcademyRating            50000 non-null  float64\n",
            " 13  AveragePlayerMarketValue      50000 non-null  float64\n",
            "dtypes: float64(7), int64(7)\n",
            "memory usage: 5.3 MB\n"
          ]
        }
      ],
      "source": [
        "display(data)\n",
        "data.info()"
      ]
    },
    {
      "cell_type": "code",
      "execution_count": 343,
      "metadata": {
        "id": "7xFD8H3WlHQ1"
      },
      "outputs": [],
      "source": [
        "# Funcion de normalizacion de caracteristicas, para mejorar el rendimiento\n",
        "def  featureNormalize(X):\n",
        "    # una copia de X para almacenar los datos normalizados\n",
        "    X_norm = X.copy()\n",
        "    # vector donde se almacenara la media de cada caracteristica\n",
        "    mu = np.zeros(X.shape[1])\n",
        "    # vector donde se almacenara la desviacion estandar de cada caracteristica\n",
        "    sigma = np.zeros(X.shape[1])\n",
        "\n",
        "    # calcular la media de cada caracteristica\n",
        "    mu = np.mean(X, axis = 0)\n",
        "    # calcular la desviacion estandar\n",
        "    #X = np.array([[2104, 3, 399900],\n",
        "              #[1600, 3, 329900],\n",
        "              #[2400, 3, 369000],\n",
        "              #[1416, 2, 232000]])\n",
        "    # la media de la primera columna es de 1880\n",
        "    # Desviaciones: [2104 - 1880, 1600 - 1880, 2400 - 1880, 1416 - 1880] = [224, -280, 520, -464]\n",
        "    # Cuadrado de desviaciones: [224², -280², 520², -464²] = [50176, 78400, 270400, 215296]\n",
        "    # Media de los cuadrados: (50176 + 78400 + 270400 + 215296) / 4 = 153568\n",
        "    # Desviación estándar: sqrt(153568) ≈ 392\n",
        "    sigma = np.std(X, axis = 0)\n",
        "    # calculo de los datos normalizados:\n",
        "    # [[ 0.571,  0.577,  1.067],\n",
        "    # [-0.714,  0.577, -0.039],\n",
        "    # [ 1.327,  0.577,  0.581],\n",
        "    # [-1.184, -1.731, -1.609]]\n",
        "    # Este proceso asegura que cada característica en X tenga una media de 0\n",
        "    # y una desviación estándar de 1, facilitando la comparación y el entrenamiento de modelos.\n",
        "    X_norm = (X - mu) / sigma\n",
        "\n",
        "    return X_norm, mu, sigma"
      ]
    },
    {
      "cell_type": "code",
      "execution_count": 344,
      "metadata": {
        "colab": {
          "base_uri": "https://localhost:8080/"
        },
        "id": "ipL_QsTZlHQ2",
        "outputId": "29155d20-c7a7-4a56-f44a-4ac95ea70949"
      },
      "outputs": [
        {
          "output_type": "stream",
          "name": "stdout",
          "text": [
            "Media calculada:\n",
            " TotalGoalsLastSeason               59.343160\n",
            "MatchesWonLastSeason               18.425460\n",
            "MatchesDrawnLastSeason             18.604460\n",
            "MatchesLostLastSeason              18.478100\n",
            "TotalGoalsConcededLastSeason       59.538680\n",
            "TotalRevenueLastSeason            274.506391\n",
            "StadiumCapacity                 54854.567880\n",
            "AverageAttendance               47425.311150\n",
            "TransferSpendingLastSeason         99.845519\n",
            "TransferIncomeLastSeason          100.406919\n",
            "NumberOfTrophies                   24.584640\n",
            "MarketValueOfSquad                505.104996\n",
            "YouthAcademyRating                 50.000278\n",
            "dtype: float64\n",
            "Desviación estandar calculada:\n",
            " TotalGoalsLastSeason               23.095501\n",
            "MatchesWonLastSeason               10.955331\n",
            "MatchesDrawnLastSeason             10.980152\n",
            "MatchesLostLastSeason              10.996801\n",
            "TotalGoalsConcededLastSeason       23.049552\n",
            "TotalRevenueLastSeason            130.149193\n",
            "StadiumCapacity                 25986.089796\n",
            "AverageAttendance               24578.386175\n",
            "TransferSpendingLastSeason         57.666221\n",
            "TransferIncomeLastSeason           57.609276\n",
            "NumberOfTrophies                   14.426216\n",
            "MarketValueOfSquad                286.472536\n",
            "YouthAcademyRating                 28.827399\n",
            "dtype: float64\n",
            "       TotalGoalsLastSeason  MatchesWonLastSeason  MatchesDrawnLastSeason  \\\n",
            "0                 -1.357111             -0.221395                1.584271   \n",
            "1                  1.284096             -0.586514                1.493198   \n",
            "2                 -0.707634             -1.408032               -0.874711   \n",
            "3                  1.067604              0.052444                0.036023   \n",
            "4                 -1.010723              1.604200               -0.783638   \n",
            "...                     ...                   ...                     ...   \n",
            "49995              1.457290              0.782682               -1.512225   \n",
            "49996              1.457290              0.143724                1.584271   \n",
            "49997              1.240798              1.421640               -0.783638   \n",
            "49998              0.807813              0.326283               -0.328271   \n",
            "49999              0.071739              0.873962               -0.146124   \n",
            "\n",
            "       MatchesLostLastSeason  TotalGoalsConcededLastSeason  \\\n",
            "0                   0.138395                     -0.370449   \n",
            "1                   1.138686                      1.061249   \n",
            "2                   0.865879                      0.540632   \n",
            "3                   1.411492                     -1.628608   \n",
            "4                  -0.861896                      0.887710   \n",
            "...                      ...                           ...   \n",
            "49995               1.320557                     -0.674142   \n",
            "49996               0.320266                      0.453862   \n",
            "49997              -1.316574                     -0.110140   \n",
            "49998              -1.407509                      0.453862   \n",
            "49999              -1.680316                     -0.023371   \n",
            "\n",
            "       TotalRevenueLastSeason  StadiumCapacity  AverageAttendance  \\\n",
            "0                    0.484410         0.035074          -1.716775   \n",
            "1                   -0.074192        -1.521875          -0.050962   \n",
            "2                    0.683191         0.854127           1.257566   \n",
            "3                    0.170678         0.253421           0.514888   \n",
            "4                    1.586042         0.912351          -1.484408   \n",
            "...                       ...              ...                ...   \n",
            "49995                0.287996         0.548656          -0.260554   \n",
            "49996                0.663468         0.045849          -0.182645   \n",
            "49997               -1.618235        -0.487167          -0.605020   \n",
            "49998               -1.399407         0.323497           1.729078   \n",
            "49999                0.332644         0.036305           0.674869   \n",
            "\n",
            "       TransferSpendingLastSeason  TransferIncomeLastSeason  NumberOfTrophies  \\\n",
            "0                        1.348217                 -0.354703          1.692430   \n",
            "1                        0.443872                 -1.609594          0.929929   \n",
            "2                       -0.972309                  0.629097          0.929929   \n",
            "3                        1.458235                  1.185161         -1.288255   \n",
            "4                       -1.473376                  1.533801         -0.941663   \n",
            "...                           ...                       ...               ...   \n",
            "49995                   -0.859275                  0.532821          0.999247   \n",
            "49996                   -1.021951                 -0.533384          1.553793   \n",
            "49997                   -1.172549                 -0.820357          1.484475   \n",
            "49998                   -0.533012                 -0.619174         -0.872345   \n",
            "49999                    1.256838                  1.528977          1.207202   \n",
            "\n",
            "       MarketValueOfSquad  YouthAcademyRating  \n",
            "0                0.729089           -1.236290  \n",
            "1               -0.937124           -0.903071  \n",
            "2               -0.330234            0.496387  \n",
            "3               -1.143367            1.122260  \n",
            "4                0.199004            1.408874  \n",
            "...                   ...                 ...  \n",
            "49995           -0.706658           -0.805612  \n",
            "49996            1.234646            0.810147  \n",
            "49997            0.210061           -0.459131  \n",
            "49998           -0.245598            0.411037  \n",
            "49999           -1.721405           -0.695530  \n",
            "\n",
            "[50000 rows x 13 columns]\n"
          ]
        }
      ],
      "source": [
        "# Llama a la funcion featureNormalize con el parametro X para obtener los datos normalizados\n",
        "X_norm, mu, sigma = featureNormalize(X)\n",
        "\n",
        "print('Media calculada:\\n', mu)\n",
        "print('Desviación estandar calculada:\\n', sigma)\n",
        "print(X_norm)"
      ]
    },
    {
      "cell_type": "code",
      "execution_count": 345,
      "metadata": {
        "id": "nNaGVxgolHQ2"
      },
      "outputs": [],
      "source": [
        "# añadimos una columna de unos como primera columna en X\n",
        "# el termino de sesgo es un valor constante que se añade\n",
        "# a la ecuación de predicción para ajustar la línea de\n",
        "# regresión de manera que se alinee mejor con los datos observados\n",
        "X = np.concatenate([np.ones((m, 1)), X_norm], axis=1)"
      ]
    },
    {
      "cell_type": "code",
      "execution_count": 346,
      "metadata": {
        "colab": {
          "base_uri": "https://localhost:8080/"
        },
        "id": "MXZcb3hkGiLP",
        "outputId": "79a57d08-c690-4f09-f9a1-fec41c9e158b"
      },
      "outputs": [
        {
          "output_type": "stream",
          "name": "stdout",
          "text": [
            "[[ 1.         -1.35711107 -0.2213954  ...  1.69242992  0.72908866\n",
            "  -1.23628999]\n",
            " [ 1.          1.28409599 -0.58651444 ...  0.92992922 -0.93712405\n",
            "  -0.90307149]\n",
            " [ 1.         -0.70763393 -1.40803227 ...  0.92992922 -0.33023388\n",
            "   0.49638723]\n",
            " ...\n",
            " [ 1.          1.24079751  1.42164026 ...  1.48447518  0.21006061\n",
            "  -0.45913051]\n",
            " [ 1.          0.80781275  0.32628315 ... -0.87234516 -0.245598\n",
            "   0.41103686]\n",
            " [ 1.          0.07173865  0.8739617  ...  1.2072022  -1.72140524\n",
            "  -0.69553046]]\n"
          ]
        }
      ],
      "source": [
        "print(X)"
      ]
    },
    {
      "cell_type": "code",
      "execution_count": 347,
      "metadata": {
        "id": "EQCMN7KqlHQ3"
      },
      "outputs": [],
      "source": [
        "# Esta funcion calcula el costo, el costo mide la diferencia entre las predicciones realizadas por el modelo y los\n",
        "# valores reales observados en los datos.\n",
        "def computeCostMulti(X, y, theta):\n",
        "    # almacenamos en m la cantidad de filas que tiene y\n",
        "    m = y.shape[0]\n",
        "    # variable que almacenara el valor del costo\n",
        "    J = 0\n",
        "    J = (1/(2 * m)) * np.sum(np.square(np.dot(X, theta) - y))\n",
        "    return J"
      ]
    },
    {
      "cell_type": "code",
      "execution_count": 348,
      "metadata": {
        "id": "Vdy_aQUklHQ4"
      },
      "outputs": [],
      "source": [
        "# Funcion descenso de la gradiente, ajusta los parametros theta del modelo de regresion de manera que se minimice la funcion de costo\n",
        "def gradientDescentMulti(X, y, theta, alpha, num_iters):\n",
        "    # almacenamos en m la cantidad de filas que tiene y\n",
        "    m = y.shape[0]\n",
        "    # se realiza una copia de theta para evitar modificar el vector original fuera de la funcion\n",
        "    # las thetas son los parametros o coeficientes que determinan la relacion entre variables dependientes e independientes\n",
        "    # Este valor representa cuánto cambia el precio de la casa por cada unidad adicional de tamaño.\n",
        "    # Si 𝜃1 es positivo, significa que a medida que aumenta el tamaño de la casa, también aumenta el precio.\n",
        "    # el objetivo es encontrar una relación lineal entre las características de entrada y la salida\n",
        "    theta = theta.copy()\n",
        "    # una lista que almacenara el valor de la funcion de costo en cada iteracion\n",
        "    J_history = []\n",
        "    for i in range(num_iters):\n",
        "        theta = theta - (alpha / m) * (np.dot(X, theta) - y).dot(X)\n",
        "        # Después de actualizar theta, se calcula el costo actual con computeCostMulti y se guarda en J_history.\n",
        "        J_history.append(computeCostMulti(X, y, theta))\n",
        "    return theta, J_history"
      ]
    },
    {
      "cell_type": "code",
      "execution_count": 349,
      "metadata": {
        "colab": {
          "base_uri": "https://localhost:8080/",
          "height": 563
        },
        "id": "sId0DiH9lHQ4",
        "outputId": "269de6f9-8f2e-4fa0-b97f-2c3415dd0cbd"
      },
      "outputs": [
        {
          "output_type": "display_data",
          "data": {
            "text/plain": [
              "<Figure size 640x480 with 1 Axes>"
            ],
            "image/png": "[encoded data removed]"
          },
          "metadata": {}
        },
        {
          "output_type": "stream",
          "name": "stdout",
          "text": [
            "theta calculado por el descenso por el gradiente: [ 2.52480963e+01  7.91592805e-02 -2.26632671e-02 -5.91224015e-02\n",
            "  9.14894581e-02  2.23398772e-02 -1.68310120e-03  4.52280425e-02\n",
            "  3.59480374e-02 -1.05072532e-02 -3.59088335e-02 -1.44774463e-02\n",
            "  6.43175088e-02 -1.94435683e-02]\n",
            "Prueba de prediccion: $25\n"
          ]
        }
      ],
      "source": [
        "# Elegir algun valor para alpha\n",
        "alpha = 0.001\n",
        "num_iters = 10000\n",
        "\n",
        "# inicializa theta y ejecuta el descenso por el gradiente\n",
        "theta = np.zeros(14)\n",
        "theta, J_history = gradientDescentMulti(X, y, theta, alpha, num_iters)\n",
        "\n",
        "# Grafica la convergencia del costo\n",
        "pyplot.plot(np.arange(len(J_history)), J_history, lw=2)\n",
        "pyplot.xlabel('Numero de iteraciones')\n",
        "pyplot.ylabel('Costo J')\n",
        "pyplot.title('Convergencia del Descenso por el Gradiente')\n",
        "pyplot.show()\n",
        "\n",
        "# Muestra los resultados del descenso por el gradiente\n",
        "print('theta calculado por el descenso por el gradiente: {:s}'.format(str(theta)))\n",
        "X_array = [1,89,12,35,31,84,264.850402,15307,46172.738882,125.441952,7.679349,38,236.644694,23.967076]\n",
        "X_array[1:14] = (X_array[1:14] - mu) / sigma\n",
        "Precio = np.dot(X_array, theta)\n",
        "print('Prueba de prediccion: ${:.0f}'.format(Precio))\n",
        "\n"
      ]
    },
    {
      "cell_type": "code",
      "execution_count": 350,
      "metadata": {
        "colab": {
          "base_uri": "https://localhost:8080/"
        },
        "id": "3YafUllo0UGK",
        "outputId": "c5261373-d2fd-4eff-9dbb-d5a4500f2724"
      },
      "outputs": [
        {
          "output_type": "stream",
          "name": "stdout",
          "text": [
            "Prueba de prediccion: $25\n"
          ]
        }
      ],
      "source": [
        "X_array = [1,89,12,35,31,84,264.85040216224945,15307,46172.73888195951,125.4419523276792,7.679349174887529,38,23.967075752646316,26]\n",
        "X_array[1:14] = (X_array[1:14] - mu) / sigma\n",
        "Precio = np.dot(X_array, theta)\n",
        "print('Prueba de prediccion: ${:.0f}'.format(Precio))"
      ]
    },
    {
      "cell_type": "code",
      "execution_count": 351,
      "metadata": {
        "colab": {
          "base_uri": "https://localhost:8080/"
        },
        "id": "gzQEZ5P_0UGK",
        "outputId": "9e10e105-7c66-48a0-dddc-7887a783517a"
      },
      "outputs": [
        {
          "output_type": "execute_result",
          "data": {
            "text/plain": [
              "[1.2840959867161115,\n",
              " -0.586514440032822,\n",
              " 1.4931979692734574,\n",
              " 1.1386856575575677,\n",
              " 1.0612492434189251,\n",
              " -0.07419169166800962,\n",
              " -1.5218745178598179,\n",
              " -0.05096234792386801,\n",
              " 0.4438722104999695,\n",
              " -1.6095944413455152,\n",
              " 0.9299292165334171,\n",
              " -1.6795254706500848,\n",
              " -0.8325509318991493]"
            ]
          },
          "metadata": {},
          "execution_count": 351
        }
      ],
      "source": [
        "# imprimimos los datos normalizados de X_array\n",
        "X_array[1:14]"
      ]
    },
    {
      "cell_type": "markdown",
      "metadata": {
        "id": "uxdNiPKr0UGL"
      },
      "source": [
        "ECUACION DE LA NORMAL"
      ]
    },
    {
      "cell_type": "code",
      "execution_count": 352,
      "metadata": {
        "id": "h_fI_P410UGL"
      },
      "outputs": [],
      "source": [
        "# utilizado para manejos de directorios y rutas\n",
        "import os\n",
        "import csv\n",
        "# Computacion vectorial y cientifica para python\n",
        "import numpy as np\n",
        "import matplotlib.pyplot as plt\n",
        "from scipy import optimize\n",
        "# Librerias para graficación (trazado de gráficos)\n",
        "from matplotlib import pyplot\n",
        "from sklearn import preprocessing\n",
        "# llama a matplotlib a embeber graficas dentro de los cuadernillos\n",
        "%matplotlib inline\n",
        "\n",
        "# Biblioteca para la manipulación y el análisis de datos\n",
        "import pandas as pd"
      ]
    },
    {
      "cell_type": "code",
      "execution_count": 353,
      "metadata": {
        "id": "DNGyexvN0UGL"
      },
      "outputs": [],
      "source": [
        "# Cargamos el dataset\n",
        "data = pd.read_csv('/content/gdrive/MyDrive/IA/datasets/Football_teams_price_data.csv', delimiter=',')\n",
        "\n",
        "\n",
        "# Eliminar la primera columna\n",
        "data = data.iloc[:, 1:]\n",
        "# Identificar todas las columnas de tipo 'object' excepto la última columna\n",
        "object_columns = data.iloc[:, :].select_dtypes(include=['object']).columns\n",
        "# Eliminar las columnas de tipo 'object'\n",
        "data = data.drop(columns=object_columns)\n"
      ]
    },
    {
      "cell_type": "code",
      "execution_count": 354,
      "metadata": {
        "id": "SxB-Dw4w0UGL"
      },
      "outputs": [],
      "source": [
        "# Seleccionamos las columnas independientes (X) y dependiente(y)\n",
        "X = data.iloc[:, 0:13]\n",
        "y = data.iloc[:, -1]\n",
        "m = y.size"
      ]
    },
    {
      "cell_type": "code",
      "execution_count": 355,
      "metadata": {
        "colab": {
          "base_uri": "https://localhost:8080/"
        },
        "id": "YFAtAnhA0UGM",
        "outputId": "e08f8082-d814-4f0f-b608-8aebf05cf4e3"
      },
      "outputs": [
        {
          "output_type": "stream",
          "name": "stdout",
          "text": [
            "   TotalGoalsLastSeason  MatchesWonLastSeason  MatchesDrawnLastSeason  \\\n",
            "0                    28                    16                      36   \n",
            "1                    89                    12                      35   \n",
            "2                    43                     3                       9   \n",
            "3                    84                    19                      19   \n",
            "4                    36                    36                      10   \n",
            "\n",
            "   MatchesLostLastSeason  TotalGoalsConcededLastSeason  \\\n",
            "0                     20                            51   \n",
            "1                     31                            84   \n",
            "2                     28                            72   \n",
            "3                     34                            22   \n",
            "4                      9                            80   \n",
            "\n",
            "   TotalRevenueLastSeason  StadiumCapacity  AverageAttendance  \\\n",
            "0              337.552001            55766        5229.742720   \n",
            "1              264.850402            15307       46172.738882   \n",
            "2              363.423205            77050       78334.254989   \n",
            "3              296.719959            61440       60080.423819   \n",
            "4              480.928532            78563       10940.950513   \n",
            "\n",
            "   TransferSpendingLastSeason  TransferIncomeLastSeason  NumberOfTrophies  \\\n",
            "0                  177.592126                 79.972750                49   \n",
            "1                  125.441952                  7.679349                38   \n",
            "2                   43.776137                136.648762                38   \n",
            "3                  183.936395                168.683160                 6   \n",
            "4                   14.881518                188.768072                11   \n",
            "\n",
            "   MarketValueOfSquad  AveragePlayerMarketValue  \n",
            "0          713.968872                 15.847841  \n",
            "1          236.644694                 26.731697  \n",
            "2          410.502058                 21.365171  \n",
            "3          177.561791                 21.483504  \n",
            "4          562.114099                 26.938414  \n"
          ]
        }
      ],
      "source": [
        "print(X.head())"
      ]
    },
    {
      "cell_type": "code",
      "execution_count": 356,
      "metadata": {
        "id": "8PTuOGKL0UGM"
      },
      "outputs": [],
      "source": [
        "X = np.concatenate([np.ones((m, 1)), X], axis=1)"
      ]
    },
    {
      "cell_type": "code",
      "execution_count": 357,
      "metadata": {
        "id": "gVZdjjk9lHQ5"
      },
      "outputs": [],
      "source": [
        "# Funcion de la ecuacion de la normal, obtenemos valores optimos\n",
        "def normalEqn(X, y):\n",
        "    theta = np.zeros(X.shape[1])\n",
        "    theta = np.dot(np.dot(np.linalg.inv(np.dot(X.T,X)),X.T),y)\n",
        "    return theta"
      ]
    },
    {
      "cell_type": "code",
      "execution_count": 358,
      "metadata": {
        "colab": {
          "base_uri": "https://localhost:8080/"
        },
        "id": "Ybyw-FfolHQ5",
        "outputId": "18f3f9cc-44a7-4dd2-82d5-5b9640bed290"
      },
      "outputs": [
        {
          "output_type": "stream",
          "name": "stdout",
          "text": [
            "Theta calculado a partir de la ecuación de la normal: [ 5.10892273e+01 -4.50876830e-03 -7.52445889e-03 -3.95908488e-03\n",
            " -1.97086306e-02 -3.07199028e-03  3.92164798e-04 -7.33899412e-06\n",
            "  3.46317210e-06  8.69158265e-04  2.36730553e-03 -1.02471642e-03\n",
            " -3.19498791e-04 -2.74166599e-03]\n",
            "Precio predecido para una casa (usando la ecuación de la normal): $50\n"
          ]
        }
      ],
      "source": [
        "# Calcula los parametros con la ecuación de la normal\n",
        "theta = normalEqn(X, y)\n",
        "\n",
        "# Muestra los resultados obtenidos a partir de la aplicación de la ecuación de la normal\n",
        "print('Theta calculado a partir de la ecuación de la normal: {:s}'.format(str(theta)))\n",
        "X_array = [1,89,12,35,31,84,264.850402,15307,46172.738882,125.441952,7.679349,38,236.644694,23.967076]\n",
        "price = np.dot(X_array, theta)\n",
        "\n",
        "print('Precio predecido para una casa (usando la ecuación de la normal): ${:.0f}'.format(price))"
      ]
    },
    {
      "cell_type": "markdown",
      "metadata": {
        "id": "kYKYvIW80UGM"
      },
      "source": [
        "REGRESION POLINOMIAL"
      ]
    },
    {
      "cell_type": "code",
      "execution_count": 4,
      "metadata": {
        "id": "vj7dXQfj0UGM"
      },
      "outputs": [],
      "source": [
        "# utilizado para manejos de directorios y rutas\n",
        "import os\n",
        "import csv\n",
        "# Computacion vectorial y cientifica para python\n",
        "import numpy as np\n",
        "import matplotlib.pyplot as plt\n",
        "from scipy import optimize\n",
        "# Librerias para graficación (trazado de gráficos)\n",
        "from matplotlib import pyplot\n",
        "from sklearn import preprocessing\n",
        "# llama a matplotlib a embeber graficas dentro de los cuadernillos\n",
        "%matplotlib inline\n",
        "\n",
        "# Biblioteca para la manipulación y el análisis de datos\n",
        "import pandas as pd"
      ]
    },
    {
      "cell_type": "code",
      "execution_count": 5,
      "metadata": {
        "colab": {
          "base_uri": "https://localhost:8080/"
        },
        "id": "ILZ1J-c70UGN",
        "outputId": "13b26177-9764-4271-b9ec-a0ffd3351c43"
      },
      "outputs": [
        {
          "output_type": "stream",
          "name": "stdout",
          "text": [
            "<class 'pandas.core.frame.DataFrame'>\n",
            "RangeIndex: 50000 entries, 0 to 49999\n",
            "Data columns (total 14 columns):\n",
            " #   Column                        Non-Null Count  Dtype  \n",
            "---  ------                        --------------  -----  \n",
            " 0   TotalGoalsLastSeason          50000 non-null  int64  \n",
            " 1   MatchesWonLastSeason          50000 non-null  int64  \n",
            " 2   MatchesDrawnLastSeason        50000 non-null  int64  \n",
            " 3   MatchesLostLastSeason         50000 non-null  int64  \n",
            " 4   TotalGoalsConcededLastSeason  50000 non-null  int64  \n",
            " 5   TotalRevenueLastSeason        50000 non-null  float64\n",
            " 6   StadiumCapacity               50000 non-null  int64  \n",
            " 7   AverageAttendance             50000 non-null  float64\n",
            " 8   TransferSpendingLastSeason    50000 non-null  float64\n",
            " 9   TransferIncomeLastSeason      50000 non-null  float64\n",
            " 10  NumberOfTrophies              50000 non-null  int64  \n",
            " 11  MarketValueOfSquad            50000 non-null  float64\n",
            " 12  AveragePlayerMarketValue      50000 non-null  float64\n",
            " 13  YouthAcademyRating            50000 non-null  float64\n",
            "dtypes: float64(7), int64(7)\n",
            "memory usage: 5.3 MB\n"
          ]
        }
      ],
      "source": [
        "# Cargamos el dataset\n",
        "data = pd.read_csv('/content/gdrive/MyDrive/IA/datasets/Football_teams_price_data.csv', delimiter=',')\n",
        "\n",
        "\n",
        "# Eliminar la primera columna\n",
        "data = data.iloc[:, 1:]\n",
        "# Identificar todas las columnas de tipo 'object' excepto la última columna\n",
        "object_columns = data.iloc[:, :].select_dtypes(include=['object']).columns\n",
        "# Eliminar las columnas de tipo 'object'\n",
        "data = data.drop(columns=object_columns)\n",
        "data.info()"
      ]
    },
    {
      "cell_type": "code",
      "execution_count": 6,
      "metadata": {
        "id": "nBo3CqOR0UGN"
      },
      "outputs": [],
      "source": [
        "# Seleccionamos las columnas independientes (X) y dependiente(y)\n",
        "X = data.iloc[:, 0:13]\n",
        "y = data.iloc[:, -1]\n",
        "m = y.size"
      ]
    },
    {
      "cell_type": "code",
      "execution_count": 7,
      "metadata": {
        "colab": {
          "base_uri": "https://localhost:8080/"
        },
        "id": "tS-M0Z8i0UGN",
        "outputId": "6de5fa45-2cd7-4b3c-8a8b-4f0400e56cac"
      },
      "outputs": [
        {
          "output_type": "stream",
          "name": "stdout",
          "text": [
            "       TotalGoalsLastSeason  MatchesWonLastSeason  MatchesDrawnLastSeason  \\\n",
            "0                        28                    16                      36   \n",
            "1                        89                    12                      35   \n",
            "2                        43                     3                       9   \n",
            "3                        84                    19                      19   \n",
            "4                        36                    36                      10   \n",
            "...                     ...                   ...                     ...   \n",
            "49995                    93                    27                       2   \n",
            "49996                    93                    20                      36   \n",
            "49997                    88                    34                      10   \n",
            "49998                    78                    22                      15   \n",
            "49999                    61                    28                      17   \n",
            "\n",
            "       MatchesLostLastSeason  TotalGoalsConcededLastSeason  \\\n",
            "0                         20                            51   \n",
            "1                         31                            84   \n",
            "2                         28                            72   \n",
            "3                         34                            22   \n",
            "4                          9                            80   \n",
            "...                      ...                           ...   \n",
            "49995                     33                            44   \n",
            "49996                     22                            70   \n",
            "49997                      4                            57   \n",
            "49998                      3                            70   \n",
            "49999                      0                            59   \n",
            "\n",
            "       TotalRevenueLastSeason  StadiumCapacity  AverageAttendance  \\\n",
            "0                  337.552001            55766        5229.742720   \n",
            "1                  264.850402            15307       46172.738882   \n",
            "2                  363.423205            77050       78334.254989   \n",
            "3                  296.719959            61440       60080.423819   \n",
            "4                  480.928532            78563       10940.950513   \n",
            "...                       ...              ...                ...   \n",
            "49995              311.988876            69112       41021.316020   \n",
            "49996              360.856254            56046       42936.194438   \n",
            "49997               63.894436            42195       32554.899828   \n",
            "49998               92.374679            63261       89923.247455   \n",
            "49999              317.799796            55798       64012.493588   \n",
            "\n",
            "       TransferSpendingLastSeason  TransferIncomeLastSeason  NumberOfTrophies  \\\n",
            "0                      177.592126                 79.972750                49   \n",
            "1                      125.441952                  7.679349                38   \n",
            "2                       43.776137                136.648762                38   \n",
            "3                      183.936395                168.683160                 6   \n",
            "4                       14.881518                188.768072                11   \n",
            "...                           ...                       ...               ...   \n",
            "49995                   50.294379                131.102374                39   \n",
            "49996                   40.913480                 69.679081                47   \n",
            "49997                   32.229077                 53.146753                46   \n",
            "49998                   69.108758                 64.736750                12   \n",
            "49999                  172.322590                188.490206                42   \n",
            "\n",
            "       MarketValueOfSquad  AveragePlayerMarketValue  \n",
            "0              713.968872                 15.847841  \n",
            "1              236.644694                 26.731697  \n",
            "2              410.502058                 21.365171  \n",
            "3              177.561791                 21.483504  \n",
            "4              562.114099                 26.938414  \n",
            "...                   ...                       ...  \n",
            "49995          302.667018                 45.316735  \n",
            "49996          858.797181                 18.867344  \n",
            "49997          565.281592                 44.213728  \n",
            "49998          434.747915                 33.942946  \n",
            "49999           11.969673                 15.094618  \n",
            "\n",
            "[50000 rows x 13 columns]\n",
            "0        14.361253\n",
            "1        23.967076\n",
            "2        64.309831\n",
            "3        82.352127\n",
            "4        90.614463\n",
            "           ...    \n",
            "49995    26.776585\n",
            "49996    73.354701\n",
            "49997    36.764740\n",
            "49998    61.849402\n",
            "49999    29.949944\n",
            "Name: YouthAcademyRating, Length: 50000, dtype: float64\n",
            "50000\n"
          ]
        }
      ],
      "source": [
        "print(X)\n",
        "print(y)\n",
        "print(m)"
      ]
    },
    {
      "cell_type": "code",
      "execution_count": 8,
      "metadata": {
        "id": "Si2Z1nid0UGN"
      },
      "outputs": [],
      "source": [
        "X = np.concatenate([X, X * X], axis=1)"
      ]
    },
    {
      "cell_type": "code",
      "execution_count": 9,
      "metadata": {
        "colab": {
          "base_uri": "https://localhost:8080/"
        },
        "id": "C0KrZ7oq0UGN",
        "outputId": "ec699327-bf98-41d3-b997-0305d24dd7f9"
      },
      "outputs": [
        {
          "output_type": "stream",
          "name": "stdout",
          "text": [
            "[[2.80000000e+01 1.60000000e+01 3.60000000e+01 ... 2.40100000e+03\n",
            "  5.09751550e+05 2.51154078e+02]\n",
            " [8.90000000e+01 1.20000000e+01 3.50000000e+01 ... 1.44400000e+03\n",
            "  5.60007111e+04 7.14583603e+02]\n",
            " [4.30000000e+01 3.00000000e+00 9.00000000e+00 ... 1.44400000e+03\n",
            "  1.68511939e+05 4.56470517e+02]\n",
            " ...\n",
            " [8.80000000e+01 3.40000000e+01 1.00000000e+01 ... 2.11600000e+03\n",
            "  3.19543278e+05 1.95485378e+03]\n",
            " [7.80000000e+01 2.20000000e+01 1.50000000e+01 ... 1.44000000e+02\n",
            "  1.89005750e+05 1.15212358e+03]\n",
            " [6.10000000e+01 2.80000000e+01 1.70000000e+01 ... 1.76400000e+03\n",
            "  1.43273074e+02 2.27847504e+02]]\n"
          ]
        }
      ],
      "source": [
        "print(X)"
      ]
    },
    {
      "cell_type": "code",
      "execution_count": 10,
      "metadata": {
        "colab": {
          "base_uri": "https://localhost:8080/"
        },
        "id": "UgtwArC50UGN",
        "outputId": "15be7247-1f79-40d0-da77-d7adbd659b91"
      },
      "outputs": [
        {
          "output_type": "stream",
          "name": "stdout",
          "text": [
            "Número de filas: 50000\n",
            "Número de columnas: 26\n"
          ]
        }
      ],
      "source": [
        "num_filas, num_columnas = X.shape\n",
        "print(\"Número de filas:\", num_filas)\n",
        "print(\"Número de columnas:\", num_columnas)"
      ]
    },
    {
      "cell_type": "code",
      "execution_count": 11,
      "metadata": {
        "id": "rGOu_L0m0UGO"
      },
      "outputs": [],
      "source": [
        "def  featureNormalize(X):\n",
        "    X_norm = X.copy()\n",
        "    mu = np.zeros(X.shape[1])\n",
        "    sigma = np.zeros(X.shape[1])\n",
        "\n",
        "    mu = np.mean(X, axis = 0)\n",
        "    sigma = np.std(X, axis = 0)\n",
        "    X_norm = (X - mu) / sigma\n",
        "\n",
        "    return X_norm, mu, sigma"
      ]
    },
    {
      "cell_type": "code",
      "execution_count": 12,
      "metadata": {
        "colab": {
          "base_uri": "https://localhost:8080/"
        },
        "id": "FWWEMOft0UGO",
        "outputId": "fba53222-9c31-4eb0-a869-4edac7f46f46"
      },
      "outputs": [
        {
          "output_type": "stream",
          "name": "stdout",
          "text": [
            "[[2.80000000e+01 1.60000000e+01 3.60000000e+01 ... 2.40100000e+03\n",
            "  5.09751550e+05 2.51154078e+02]\n",
            " [8.90000000e+01 1.20000000e+01 3.50000000e+01 ... 1.44400000e+03\n",
            "  5.60007111e+04 7.14583603e+02]\n",
            " [4.30000000e+01 3.00000000e+00 9.00000000e+00 ... 1.44400000e+03\n",
            "  1.68511939e+05 4.56470517e+02]\n",
            " ...\n",
            " [8.80000000e+01 3.40000000e+01 1.00000000e+01 ... 2.11600000e+03\n",
            "  3.19543278e+05 1.95485378e+03]\n",
            " [7.80000000e+01 2.20000000e+01 1.50000000e+01 ... 1.44000000e+02\n",
            "  1.89005750e+05 1.15212358e+03]\n",
            " [6.10000000e+01 2.80000000e+01 1.70000000e+01 ... 1.76400000e+03\n",
            "  1.43273074e+02 2.27847504e+02]]\n",
            "Media calculada: [5.93431600e+01 1.84254600e+01 1.86044600e+01 1.84781000e+01\n",
            " 5.95386800e+01 2.74506391e+02 5.48545679e+04 4.74253111e+04\n",
            " 9.98455193e+01 1.00406919e+02 2.45846400e+01 5.05104996e+02\n",
            " 2.52492369e+01 4.05501280e+03 4.59516860e+02 4.66689660e+02\n",
            " 4.62369820e+02 4.07613628e+03 9.22925711e+04 3.68430048e+09\n",
            " 2.85325720e+09 1.32945208e+04 1.34003781e+04 8.12520240e+02\n",
            " 3.37197570e+05 8.41958967e+02]\n",
            "Desviación estandar calculada: [2.30955009e+01 1.09553313e+01 1.09801516e+01 1.09968014e+01\n",
            " 2.30495524e+01 1.30149193e+02 2.59860898e+04 2.45783862e+04\n",
            " 5.76662211e+01 5.76092759e+01 1.44262163e+01 2.86472536e+02\n",
            " 1.42980769e+01 2.78769692e+03 4.19312025e+02 4.21787207e+02\n",
            " 4.20828118e+02 2.78318320e+03 7.31044315e+04 2.91831838e+09\n",
            " 2.39418942e+09 1.18887031e+04 1.19162343e+04 7.31345644e+02\n",
            " 2.98726133e+05 7.44800160e+02]\n",
            "[[-1.35711107 -0.2213954   1.58427139 ...  2.17199593  0.57763269\n",
            "  -0.79323948]\n",
            " [ 1.28409599 -0.58651444  1.49319797 ...  0.86344913 -0.94131992\n",
            "  -0.17101952]\n",
            " [-0.70763393 -1.40803227 -0.87471106 ...  0.86344913 -0.56468321\n",
            "  -0.517573  ]\n",
            " ...\n",
            " [ 1.24079751  1.42164026 -0.78363764 ...  1.78230331 -0.05909859\n",
            "   1.49421935]\n",
            " [ 0.80781275  0.32628315 -0.32827051 ... -0.91409615 -0.4960792\n",
            "   0.41644004]\n",
            " [ 0.07173865  0.8739617  -0.14612367 ...  1.30099874 -1.12830536\n",
            "  -0.82453186]]\n"
          ]
        }
      ],
      "source": [
        "# llama featureNormalize con los datos cargados\n",
        "X_norm, mu, sigma = featureNormalize(X)\n",
        "\n",
        "print(X)\n",
        "print('Media calculada:', mu)\n",
        "print('Desviación estandar calculada:', sigma)\n",
        "print(X_norm)"
      ]
    },
    {
      "cell_type": "code",
      "execution_count": 13,
      "metadata": {
        "id": "KqTMTgl00UGO"
      },
      "outputs": [],
      "source": [
        "X = np.concatenate([np.ones((m, 1)), X_norm], axis=1)"
      ]
    },
    {
      "cell_type": "code",
      "execution_count": 14,
      "metadata": {
        "colab": {
          "base_uri": "https://localhost:8080/"
        },
        "id": "Hvzd7Sxd0UGO",
        "outputId": "dc0eed13-b251-4c1d-aa63-4bd28f0987c5"
      },
      "outputs": [
        {
          "output_type": "stream",
          "name": "stdout",
          "text": [
            "[[ 1.         -1.35711107 -0.2213954  ...  2.17199593  0.57763269\n",
            "  -0.79323948]\n",
            " [ 1.          1.28409599 -0.58651444 ...  0.86344913 -0.94131992\n",
            "  -0.17101952]\n",
            " [ 1.         -0.70763393 -1.40803227 ...  0.86344913 -0.56468321\n",
            "  -0.517573  ]\n",
            " ...\n",
            " [ 1.          1.24079751  1.42164026 ...  1.78230331 -0.05909859\n",
            "   1.49421935]\n",
            " [ 1.          0.80781275  0.32628315 ... -0.91409615 -0.4960792\n",
            "   0.41644004]\n",
            " [ 1.          0.07173865  0.8739617  ...  1.30099874 -1.12830536\n",
            "  -0.82453186]]\n"
          ]
        }
      ],
      "source": [
        "print(X)"
      ]
    },
    {
      "cell_type": "code",
      "execution_count": 15,
      "metadata": {
        "id": "SzCrixpV0UGO"
      },
      "outputs": [],
      "source": [
        "def computeCostMulti(X, y, theta):\n",
        "    # Inicializa algunos valores utiles\n",
        "    m = y.shape[0] # numero de ejemplos de entrenamiento\n",
        "\n",
        "    J = 0\n",
        "\n",
        "    h = np.dot(X, theta)\n",
        "\n",
        "    J = (1/(2 * m)) * np.sum(np.square(np.dot(X, theta) - y))\n",
        "\n",
        "    return J\n"
      ]
    },
    {
      "cell_type": "code",
      "execution_count": 16,
      "metadata": {
        "id": "R-23qd4V0UGO"
      },
      "outputs": [],
      "source": [
        "def gradientDescentPoly(X, y, theta, alpha, num_iters):\n",
        "\n",
        "    # Inicializa algunos valores\n",
        "    m = y.shape[0] # numero de ejemplos de entrenamiento\n",
        "\n",
        "    # realiza una copia de theta, el cual será acutalizada por el descenso por el gradiente\n",
        "    theta = theta.copy()\n",
        "\n",
        "    J_history = []\n",
        "\n",
        "    for i in range(num_iters):\n",
        "        theta = theta - (alpha / m) * (np.dot(X, theta) - y).dot(X)\n",
        "        J_history.append(computeCostMulti(X, y, theta))\n",
        "\n",
        "    return theta, J_history"
      ]
    },
    {
      "cell_type": "code",
      "execution_count": 17,
      "metadata": {
        "colab": {
          "base_uri": "https://localhost:8080/"
        },
        "id": "44wfCQzb0UGP",
        "outputId": "c352b832-d429-439b-cfbb-0b8d0d413e04"
      },
      "outputs": [
        {
          "output_type": "stream",
          "name": "stdout",
          "text": [
            "Número de filas: 50000\n",
            "Número de columnas: 27\n"
          ]
        }
      ],
      "source": [
        "num_filas, num_columnas = X.shape\n",
        "print(\"Número de filas:\", num_filas)\n",
        "print(\"Número de columnas:\", num_columnas)"
      ]
    },
    {
      "cell_type": "code",
      "execution_count": 19,
      "metadata": {
        "colab": {
          "base_uri": "https://localhost:8080/",
          "height": 595
        },
        "id": "s-aaPfIl0UGT",
        "outputId": "8aed6052-6e9d-4b74-8c3f-4fa749dc1066"
      },
      "outputs": [
        {
          "output_type": "stream",
          "name": "stdout",
          "text": [
            "theta calculado por el descenso por el gradiente: [ 4.99980196e+01  9.16832661e-02 -2.82234318e-01 -1.45196461e-01\n",
            " -1.52129341e-01 -1.92118892e-02  1.24164285e-01 -2.78738516e-01\n",
            " -3.91660638e-02 -8.84172423e-02  2.35392341e-01 -2.11789697e-02\n",
            " -3.06247114e-01  1.39080616e-01 -2.13121769e-01  2.28517163e-01\n",
            "  1.16491345e-01 -6.29922771e-02 -5.46029256e-02 -8.37359332e-02\n",
            "  1.07540375e-01  1.35690188e-01  1.53693687e-01 -1.17683061e-01\n",
            "  7.71192844e-03  2.45684565e-01 -1.98487386e-01]\n",
            "Precio predecido de una casa (usando el descenso por el gradiente): $51\n"
          ]
        },
        {
          "output_type": "display_data",
          "data": {
            "text/plain": [
              "<Figure size 640x480 with 1 Axes>"
            ],
            "image/png": "[encoded data removed]"
          },
          "metadata": {}
        }
      ],
      "source": [
        "# Elegir algun valor para alpha (probar varias alternativas)\n",
        "alpha = 0.001\n",
        "num_iters = 10000\n",
        "\n",
        "# inicializa theta y ejecuta el descenso por el gradiente\n",
        "theta = np.zeros(27)\n",
        "theta, J_history = gradientDescentPoly(X, y, theta, alpha, num_iters)\n",
        "\n",
        "# Grafica la convergencia del costo\n",
        "pyplot.plot(np.arange(len(J_history)), J_history, lw=2)\n",
        "pyplot.xlabel('Numero de iteraciones')\n",
        "pyplot.ylabel('Costo J')\n",
        "\n",
        "\n",
        "\n",
        "# Muestra los resultados del descenso por el gradiente\n",
        "print('theta calculado por el descenso por el gradiente: {:s}'.format(str(theta)))\n",
        "\n",
        "X_array = [1,36,\t36,\t10,\t9,\t80,\t480.928532,\t78563,\t10940.950513,\t14.881518,\t188.768072,\t11,\n",
        "562.114099,\t90.614463,26,\t36,\t10,\t9,\t65,\t480.928532,\t78563,\t10940.950513,\t14.881518,\t188.768072,\t11,\t562.114099,\t78.614463\t]\n",
        "X_array[1:27] = (X_array[1:27] - mu) / sigma\n",
        "precio = np.dot(X_array, theta)\n",
        "\n",
        "print('Precio predecido de una casa (usando el descenso por el gradiente): ${:.0f}'.format(precio))"
      ]
    },
    {
      "cell_type": "markdown",
      "source": [],
      "metadata": {
        "id": "2ShMZF6HrRFM"
      }
    },
    {
      "cell_type": "code",
      "execution_count": 20,
      "metadata": {
        "id": "vF-P0nJn0UGT"
      },
      "outputs": [],
      "source": [
        "X_array = [1,36,\t36,\t10,\t9,\t80,\t480.928532,\t78563,\t10940.950513,\t14.881518,\t188.768072,\t11,\t562.114099,\t90.614463,36,\t36,\t10,\t9,\t80,\t480.928532,\t78563,\t10940.950513,\t14.881518,\t188.768072,\t11,\t562.114099,\t80.614463]\n",
        "X_array[1:27] = (X_array[1:27] - mu) / sigma"
      ]
    },
    {
      "cell_type": "code",
      "execution_count": 21,
      "metadata": {
        "id": "QXdYFDeE0UGT",
        "outputId": "4afdfc1b-05b0-403c-9ce0-063652b63f56",
        "colab": {
          "base_uri": "https://localhost:8080/"
        }
      },
      "outputs": [
        {
          "output_type": "stream",
          "name": "stdout",
          "text": [
            "50.54799396375173\n"
          ]
        }
      ],
      "source": [
        "X_array[1:27]\n",
        "print(np.dot(X_array, theta))\n"
      ]
    }
  ],
  "metadata": {
    "colab": {
      "provenance": []
    },
    "kernelspec": {
      "display_name": "Python 3",
      "language": "python",
      "name": "python3"
    },
    "language_info": {
      "codemirror_mode": {
        "name": "ipython",
        "version": 3
      },
      "file_extension": ".py",
      "mimetype": "text/x-python",
      "name": "python",
      "nbconvert_exporter": "python",
      "pygments_lexer": "ipython3",
      "version": "3.11.8"
    }
  },
  "nbformat": 4,
  "nbformat_minor": 0
}